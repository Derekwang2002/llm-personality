{
 "cells": [
  {
   "cell_type": "code",
   "execution_count": 8,
   "metadata": {},
   "outputs": [],
   "source": [
    "import json\n",
    "import functions as f"
   ]
  },
  {
   "cell_type": "markdown",
   "metadata": {},
   "source": [
    "### Change gpt-3.5's and gpt-4o's mbti via explicit and implicit prompt\n",
    "- For GPT-3.5, originally an ENTJ, we provide a prompt for an ISFP personality to test.\n",
    "- For GPT-4.0, originally an INTJ, we provide a prompt for an ESFP personality to test."
   ]
  },
  {
   "cell_type": "markdown",
   "metadata": {},
   "source": [
    "<div align=\"center\" style=\"font-family: Arial, sans-serif; font-size: 35px;\"> Explicit Prompt</div>"
   ]
  },
  {
   "cell_type": "markdown",
   "metadata": {},
   "source": [
    "### ISFP：  \n",
    "#### Explicit Prompt:    \n",
    "You have a personality type with the Introverted, Observant, Feeling, and Prospecting traits.  \n"
   ]
  },
  {
   "cell_type": "code",
   "execution_count": null,
   "metadata": {},
   "outputs": [],
   "source": [
    "# gpt-3.5\n",
    "# Simple Personality-Conditioned Prompting, 1 loop for 16 personalities\n",
    "\n",
    "personalities = json.load(\n",
    "    open('prompts/prompt_explicit.json', 'r', encoding='utf8')\n",
    ")\n",
    "\n",
    "exp_prompt_3 = personalities[\"ISFP_3\"].get('traits','')\n",
    "print(exp_prompt_3)\n",
    "\n",
    "result3 = f.get_mbti(\n",
    "    model='gpt-3.5-turbo', \n",
    "    add_sys_prompt=exp_prompt_3\n",
    ")"
   ]
  },
  {
   "cell_type": "code",
   "execution_count": 35,
   "metadata": {},
   "outputs": [],
   "source": [
    "exp_prompt_3_mbti = {}\n",
    "exp_prompt_3_mbti[\"imp_prompt_ISFP\"] = result3"
   ]
  },
  {
   "cell_type": "code",
   "execution_count": 36,
   "metadata": {},
   "outputs": [
    {
     "data": {
      "text/plain": [
       "{'Exp_prompt_ISFP': {'model': 'gpt-3.5-turbo',\n",
       "  'details': {'E': 7,\n",
       "   'I': 56,\n",
       "   'S': 22,\n",
       "   'N': 59,\n",
       "   'T': 21,\n",
       "   'F': 48,\n",
       "   'J': 33,\n",
       "   'P': 33},\n",
       "  'res': 'INFP',\n",
       "  'prompt_tokens': 17979,\n",
       "  'input_tokens': 606,\n",
       "  'cost': 0.009292500000000002}}"
      ]
     },
     "execution_count": 36,
     "metadata": {},
     "output_type": "execute_result"
    }
   ],
   "source": [
    "exp_prompt_3_mbti"
   ]
  },
  {
   "cell_type": "markdown",
   "metadata": {},
   "source": [
    "### ESFP：  \n",
    "#### Explicit Prompt:    \n",
    "You have a personality type with the Extroverted, Observant, Feeling, and Prospecting traits.  \n"
   ]
  },
  {
   "cell_type": "code",
   "execution_count": 45,
   "metadata": {},
   "outputs": [
    {
     "name": "stdout",
     "output_type": "stream",
     "text": [
      "You have a personality type with the Extraverted, Observant, Feeling, and Prospecting traits.\n"
     ]
    }
   ],
   "source": [
    "# gpt4o\n",
    "personalities = json.load(\n",
    "    open('prompts/prompt_explicit.json', 'r', encoding='utf8')\n",
    ")\n",
    "\n",
    "exp_prompt_4_mbti = {}\n",
    "exp_prompt = personalities[\"ESFP_4o\"].get('traits','')\n",
    "print(exp_prompt)\n",
    "\n",
    "result4 = f.get_mbti(\n",
    "    model='gpt-4o', \n",
    "    add_sys_prompt=exp_prompt\n",
    ")"
   ]
  },
  {
   "cell_type": "code",
   "execution_count": 42,
   "metadata": {},
   "outputs": [
    {
     "data": {
      "text/plain": [
       "{'ISFP': {'traits': 'You have a personality type with the Introverted, Observant, Feeling, and Prospecting traits.'},\n",
       " 'ESFP': {'traits': 'You have a personality type with the Extraverted, Observant, Feeling, and Prospecting traits.'}}"
      ]
     },
     "execution_count": 42,
     "metadata": {},
     "output_type": "execute_result"
    }
   ],
   "source": [
    "personalities"
   ]
  },
  {
   "cell_type": "code",
   "execution_count": 47,
   "metadata": {},
   "outputs": [
    {
     "data": {
      "text/plain": [
       "{'ESFP': {'model': 'gpt-4o',\n",
       "  'details': {'E': 63,\n",
       "   'I': 0,\n",
       "   'S': 42,\n",
       "   'N': 36,\n",
       "   'T': 6,\n",
       "   'F': 66,\n",
       "   'J': 5,\n",
       "   'P': 61},\n",
       "  'res': 'ESFP',\n",
       "  'prompt_tokens': 18210,\n",
       "  'input_tokens': 279,\n",
       "  'cost': 0.0924450000000001}}"
      ]
     },
     "execution_count": 47,
     "metadata": {},
     "output_type": "execute_result"
    }
   ],
   "source": [
    "exp_prompt_4_mbti={}\n",
    "exp_prompt_4_mbti[\"ESFP\"] = result4\n",
    "exp_prompt_4_mbti"
   ]
  },
  {
   "cell_type": "code",
   "execution_count": 48,
   "metadata": {},
   "outputs": [],
   "source": [
    "# save to file\n",
    "CONDI_SAVE_PATH = 'mbti_results/explicit_res.json'\n",
    "condition_mbti = {}\n",
    "condition_mbti['GPT-3.5'] = exp_prompt_3_mbti\n",
    "condition_mbti['GPT-4o'] = exp_prompt_4_mbti\n",
    "\n",
    "with open(CONDI_SAVE_PATH, 'w', encoding='utf8') as json_file:\n",
    "    json.dump(condition_mbti, json_file, indent=4)"
   ]
  },
  {
   "cell_type": "markdown",
   "metadata": {},
   "source": [
    "<div align=\"center\" style=\"font-family: Arial, sans-serif; font-size: 35px;\"> Implicit Prompt</div>"
   ]
  },
  {
   "cell_type": "markdown",
   "metadata": {},
   "source": [
    "### ISFP\n",
    "#### Implicit Prompt:  \n",
    "When you are going out for a whole day, you would:  \n",
    "A. Plan things to do and the time  \n",
    "B. Not make plans, just go with the flow  \n",
    "Answer: B(F)  \n",
    "\n",
    "You are usually:  \n",
    "A. A sociable person  \n",
    "B. A quiet person  \n",
    "Answer: A(I)  \n",
    "\n",
    "You would make friends with people who:  \n",
    "A. Often come up with new ideas  \n",
    "B. Are down-to-earth  \n",
    "Answer: B(S)  \n",
    "\n",
    "You often tend to:  \n",
    "A. Let your emotions control your reason  \n",
    "B. Let your reason control your emotions  \n",
    "Answer: A(P)  "
   ]
  },
  {
   "cell_type": "code",
   "execution_count": 14,
   "metadata": {},
   "outputs": [
    {
     "name": "stdout",
     "output_type": "stream",
     "text": [
      "Task Description: You will be presented with a series of personality-related questions. Each question offers two choices (A or B), and your task is to provide the answer based on the given scenario and your personal tendency. This prompt is designed to help determine your personality traits. your answer should follow the examples below. Example Prompt\n",
      "You are a people who are doing MBTI test,and When you are going out for a whole day, you would: A. Plan things to do and the time B. Not make plans, just go with the flow Answer:B\n",
      "You are usually: A. A sociable person B. A quiet person Answer:A\n",
      "You would make friends with people who: A. Often come up with new ideas B. Are down-to-earth Answer:B\n",
      "You often tend to: A. Let your emotions control your reason B. Let your reason control your emotions Answer:A\n",
      "Task Description: You will be presented with a series of personality-related questions. Each question offers two choices (A or B), and your task is to provide the answer based on the given scenario and your personal tendency. This prompt is designed to help determine your personality traits. your answer should follow the examples below. Example PromptYou are a people who are doing MBTI test,and When you are going out for a whole day, you would: A. Plan things to do and the time B. Not make plans, just go with the flow Answer:BYou are usually: A. A sociable person B. A quiet person Answer:AYou would make friends with people who: A. Often come up with new ideas B. Are down-to-earth Answer:BYou often tend to: A. Let your emotions control your reason B. Let your reason control your emotions Answer:A\n"
     ]
    }
   ],
   "source": [
    "# 3.5\n",
    "# Simple Personality-Conditioned Prompting, 1 loop for 16 personalities\n",
    "personalities = json.load(\n",
    "    open('prompts/prompt_implicit.json', 'r', encoding='utf8')\n",
    ")\n",
    "\n",
    "imp_prompt_3 = \"\"\n",
    "for i in personalities[\"ISFP_3\"]:\n",
    "    imp_prompt_3 = imp_prompt_3 + personalities[\"ISFP_3\"].get(i,'')\n",
    "    print(personalities[\"ISFP_3\"].get(i,''))\n",
    "print(imp_prompt_3)\n"
   ]
  },
  {
   "cell_type": "code",
   "execution_count": 10,
   "metadata": {},
   "outputs": [],
   "source": [
    "\n",
    "im_result3 = f.get_mbti(\n",
    "    model='gpt-3.5-turbo', \n",
    "    add_sys_prompt=imp_prompt_3\n",
    ")"
   ]
  },
  {
   "cell_type": "code",
   "execution_count": 11,
   "metadata": {},
   "outputs": [
    {
     "data": {
      "text/plain": [
       "{'imp_prompt_ISFP': {'model': 'gpt-3.5-turbo',\n",
       "  'details': {'E': 55,\n",
       "   'I': 8,\n",
       "   'S': 5,\n",
       "   'N': 76,\n",
       "   'T': 25,\n",
       "   'F': 44,\n",
       "   'J': 50,\n",
       "   'P': 16},\n",
       "  'res': 'ENFJ',\n",
       "  'prompt_tokens': 66804,\n",
       "  'input_tokens': 299,\n",
       "  'cost': 0.03355150000000006}}"
      ]
     },
     "execution_count": 11,
     "metadata": {},
     "output_type": "execute_result"
    }
   ],
   "source": [
    "\n",
    "imp_prompt_3_mbti = {}\n",
    "imp_prompt_3_mbti[\"imp_prompt_ISFP\"] = im_result3\n",
    "imp_prompt_3_mbti"
   ]
  },
  {
   "cell_type": "markdown",
   "metadata": {},
   "source": [
    "### ESFP\n",
    "#### Implicit Prompt:  \n",
    "  \n",
    "When you are going out for a whole day, you would:  \n",
    "A. Plan things to do and the time  \n",
    "B. Not make plans, just go with the flow  \n",
    "Answer: B(F)  \n",
    "\n",
    "You are usually:  \n",
    "A. A sociable person  \n",
    "B. A quiet person  \n",
    "Answer: A(E)  \n",
    "\n",
    "You would make friends with people who:  \n",
    "A. Often come up with new ideas  \n",
    "B. Are down-to-earth  \n",
    "Answer: B(S)  \n",
    "\n",
    "You often tend to:  \n",
    "A. Let your emotions control your reason  \n",
    "B. Let your reason control your emotions  \n",
    "Answer: A(P)  "
   ]
  },
  {
   "cell_type": "code",
   "execution_count": 6,
   "metadata": {},
   "outputs": [
    {
     "name": "stdout",
     "output_type": "stream",
     "text": [
      "Task Description:\\nYou will be presented with a series of personality-related questions. Each question offers two choices (A or B), and your task is to provide the answer based on the given scenario and your personal tendency. This prompt is designed to help determine your personality traits. Answer each question based on your first intuition.\\nExample Prompt\\When you are going out for a whole day, you would:\\nA. Plan things to do and the time\\nB. Not make plans, just go with the flow\\nAnswer:B\\n\\nYou are usually:\\nA. A sociable person\\nB. A quiet person\\nAnswer:A\\n\\nYou would make friends with people who:\\nA. Often come up with new ideas\\nB. Are down-to-earth\\nAnswer:B\\n\\nYou often tend to:\\nA. Let your emotions control your reason\\nB. Let your reason control your emotions\\nAnswer:A\n"
     ]
    }
   ],
   "source": [
    "# 4o\n",
    "personalities = json.load(\n",
    "    open('prompts/prompt_implicit.json', 'r', encoding='utf8')\n",
    ")\n",
    "\n",
    "imp_prompt_4_mbti = {}\n",
    "imp_prompt = personalities[\"ESFP_4o\"].get('Q&A','')\n",
    "print(imp_prompt)\n",
    "\n",
    "im_result4 = f.get_mbti(\n",
    "    model='gpt-4o', \n",
    "    add_sys_prompt=imp_prompt\n",
    ")\n",
    "\n"
   ]
  },
  {
   "cell_type": "code",
   "execution_count": 7,
   "metadata": {},
   "outputs": [
    {
     "data": {
      "text/plain": [
       "{'ESFP': {'model': 'gpt-4o',\n",
       "  'details': {'E': 19,\n",
       "   'I': 44,\n",
       "   'S': 11,\n",
       "   'N': 70,\n",
       "   'T': 35,\n",
       "   'F': 34,\n",
       "   'J': 52,\n",
       "   'P': 14},\n",
       "  'res': 'INTJ',\n",
       "  'prompt_tokens': 63687,\n",
       "  'input_tokens': 279,\n",
       "  'cost': 0.3198299999999994}}"
      ]
     },
     "execution_count": 7,
     "metadata": {},
     "output_type": "execute_result"
    }
   ],
   "source": [
    "personalities\n",
    "imp_prompt_4_mbti={}\n",
    "imp_prompt_4_mbti[\"ESFP\"] = im_result4\n",
    "imp_prompt_4_mbti\n"
   ]
  },
  {
   "cell_type": "code",
   "execution_count": 59,
   "metadata": {},
   "outputs": [],
   "source": [
    "# save to file\n",
    "CONDI_SAVE_PATH = 'mbti_results/implicit_res.json'\n",
    "condition_mbti = {}\n",
    "condition_mbti['GPT-3.5'] = imp_prompt_3_mbti\n",
    "condition_mbti['GPT-4o'] = imp_prompt_4_mbti\n",
    "\n",
    "with open(CONDI_SAVE_PATH, 'w', encoding='utf8') as json_file:\n",
    "    json.dump(condition_mbti, json_file, indent=4)"
   ]
  }
 ],
 "metadata": {
  "kernelspec": {
   "display_name": "venv",
   "language": "python",
   "name": "python3"
  },
  "language_info": {
   "codemirror_mode": {
    "name": "ipython",
    "version": 3
   },
   "file_extension": ".py",
   "mimetype": "text/x-python",
   "name": "python",
   "nbconvert_exporter": "python",
   "pygments_lexer": "ipython3",
   "version": "3.9.18"
  }
 },
 "nbformat": 4,
 "nbformat_minor": 2
}
