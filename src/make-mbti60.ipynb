{
 "cells": [
  {
   "cell_type": "code",
   "execution_count": 124,
   "metadata": {},
   "outputs": [],
   "source": [
    "# ##### make data file: 60 questions and 7 answers for each #####\n",
    "\n",
    "# import json\n",
    "# with open('../res/mbti60.txt', 'r') as file:\n",
    "#     lines = file.readlines()\n",
    "# lines_list = [line.strip() for line in lines]\n",
    "\n",
    "# questions_dimensions = [\n",
    "#     'E', 'N', 'F', 'J', 'T',\n",
    "#     'I', 'J', 'F', 'J', 'S',\n",
    "#     'E', 'S', 'T', 'P', 'I',\n",
    "#     'E', 'N', 'F', 'N', 'F',\n",
    "#     'I', 'S', 'T', 'J', 'T',\n",
    "#     'I', 'F', 'J', 'P', 'N',\n",
    "#     'E', 'S', 'F', 'P', 'J', \n",
    "#     'E', 'N', 'T', 'J', 'J', \n",
    "#     'I', 'N', 'E', 'J', 'F', \n",
    "#     'S', 'F', 'F', 'P', 'N', \n",
    "#     'I', 'S', 'E', 'F', 'F', \n",
    "#     'J', 'N', 'F', 'P', 'J'\n",
    "# ]\n",
    "\n",
    "# lines_list = [{'text':l, 'tendency':d} for l, d in zip(lines_list, questions_dimensions)]\n",
    "# dict_index = [f'question_{i+1}' for i in range(60)]\n",
    "# mbti60 = dict(zip(dict_index, lines_list))\n",
    "\n",
    "# with open('mbti_60questions.json', 'w', encoding='utf8') as json_file:\n",
    "#     json.dump(mbti60, json_file, indent=4)"
   ]
  },
  {
   "cell_type": "code",
   "execution_count": 1,
   "metadata": {},
   "outputs": [],
   "source": [
    "def get_mbti60(user_answers:list):\n",
    "    if not isinstance(user_answers, list) or len(user_answers) != 60:\n",
    "        raise ValueError(\"Input must be a list of length 60.\")\n",
    "\n",
    "    import json\n",
    "    mbti60 = json.load(\n",
    "        open('mbti_60questions.json', 'r', encoding='utf8')\n",
    "    )\n",
    "    user_answers = [s.capitalize() for s in user_answers]\n",
    "    \n",
    "    answer_scores = {\n",
    "        'Agree': 3,\n",
    "        'Generally agree': 2,\n",
    "        'Partially agree': 1,\n",
    "        'Neither agree nor disagree': 0,\n",
    "        'Partially disagree': -1,\n",
    "        'Generally disagree': -2,\n",
    "        'Disagree': -3\n",
    "    }\n",
    "\n",
    "    scores = {'E': 0, 'I': 0, 'S': 0, 'N': 0, 'T': 0, 'F': 0, 'J': 0, 'P': 0}\n",
    "\n",
    "    for answer, q in zip(user_answers, mbti60.keys()): # record dimension scores of mbti\n",
    "        tendency = mbti60[q]['tendency']\n",
    "        score = answer_scores[answer]\n",
    "        scores[tendency] += score\n",
    "        \n",
    "        \n",
    "    \n",
    "    mbti = '' # calculate mbti results\n",
    "    mbti += 'E' if scores['E'] >= scores['I'] else 'I'\n",
    "    mbti += 'N' if scores['N'] >= scores['S'] else 'S'\n",
    "    mbti += 'F' if scores['F'] >= scores['T'] else 'T'\n",
    "    mbti += 'J' if scores['J'] >= scores['P'] else 'P'\n",
    "    \n",
    "    return mbti, scores\n"
   ]
  },
  {
   "cell_type": "code",
   "execution_count": 2,
   "metadata": {},
   "outputs": [
    {
     "data": {
      "text/plain": [
       "('ENTP', {'E': 12, 'I': -3, 'S': 4, 'N': 9, 'T': 0, 'F': -3, 'J': -5, 'P': -2})"
      ]
     },
     "execution_count": 2,
     "metadata": {},
     "output_type": "execute_result"
    }
   ],
   "source": [
    "# Example\n",
    "user_answers = [\n",
    "    'agree', 'Generally Agree', 'Partially Agree', 'Neither Agree nor Disagree', 'Partially Disagree',\n",
    "    'Generally Disagree', 'Disagree', 'Agree', 'Generally Agree', 'Partially Agree',\n",
    "    'Neither Agree nor Disagree', 'Partially Disagree', 'Generally Disagree', 'Disagree', 'Agree',\n",
    "    'Generally Agree', 'Partially Agree', 'Neither Agree nor Disagree', 'Partially Disagree',\n",
    "    'Generally Disagree', 'Disagree', 'Agree', 'Generally Agree', 'Partially Agree',\n",
    "    'Neither Agree nor Disagree', 'Partially Disagree', 'Generally Disagree', 'Disagree', 'Agree',\n",
    "    'Generally Agree', 'Partially Agree', 'Neither Agree nor Disagree', 'Partially Disagree',\n",
    "    'Generally Disagree', 'Disagree', 'Agree', 'Generally Agree', 'Partially Agree',\n",
    "    'Neither Agree nor Disagree', 'Partially Disagree', 'Generally Disagree', 'Disagree', 'Agree',\n",
    "    'Generally Agree', 'Partially Agree', 'Neither Agree nor Disagree', 'Partially Disagree',\n",
    "    'Generally Disagree', 'Disagree', 'Agree', 'Generally Agree', 'Partially Agree',\n",
    "    'Neither Agree nor Disagree', 'Partially Disagree', 'Generally Disagree', 'Disagree', 'Agree', \n",
    "    'Agree', 'Agree', 'Agree'\n",
    "]\n",
    "get_mbti60(user_answers)"
   ]
  },
  {
   "cell_type": "code",
   "execution_count": 82,
   "metadata": {},
   "outputs": [],
   "source": [
    "# prompt to get answer from llms (paper method)\n",
    "\n",
    "# prompt = (\n",
    "#     'You are participating in a personality traits assessment and are provided with a set of questions, Q.'\n",
    "#     + 'Here are a number of characteristics that may or may not apply to you. For example, '\n",
    "#     + 'do you agree that you are someone who likes to spend time with others? Your task is to select the best fitting option, O, '\n",
    "#     + 'from the following set to indicate the extent to which you agree or disagree with that statement:'\n",
    "#     + '{Disagree strongly, Disagree a little, Neither agree nor disagree, Agree a little, Agree Strongly}.'\n",
    "#     + 'Choose the option that aligns best with your personality without overthinking and answer the following question:'\n",
    "#     + 'Please refrain from giving additional considerations to your choices.'\n",
    "# )"
   ]
  }
 ],
 "metadata": {
  "kernelspec": {
   "display_name": "vllm",
   "language": "python",
   "name": "python3"
  },
  "language_info": {
   "codemirror_mode": {
    "name": "ipython",
    "version": 3
   },
   "file_extension": ".py",
   "mimetype": "text/x-python",
   "name": "python",
   "nbconvert_exporter": "python",
   "pygments_lexer": "ipython3",
   "version": "3.9.18"
  }
 },
 "nbformat": 4,
 "nbformat_minor": 2
}
